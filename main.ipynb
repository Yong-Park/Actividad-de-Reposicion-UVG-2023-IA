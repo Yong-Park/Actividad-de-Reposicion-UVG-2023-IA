{
 "cells": [
  {
   "attachments": {},
   "cell_type": "markdown",
   "metadata": {},
   "source": [
    "# Task 1.1"
   ]
  },
  {
   "cell_type": "code",
   "execution_count": null,
   "metadata": {},
   "outputs": [],
   "source": [
    "import numpy as np\n",
    "\n",
    "# Cargar el archivo CSV en un np.array\n",
    "data = np.genfromtxt('framingham.csv', delimiter=',', skip_header=1)\n",
    "\n",
    "# Mostrar los primeros 5 registros\n",
    "print(data[:5])\n"
   ]
  }
 ],
 "metadata": {
  "language_info": {
   "name": "python"
  },
  "orig_nbformat": 4
 },
 "nbformat": 4,
 "nbformat_minor": 2
}
