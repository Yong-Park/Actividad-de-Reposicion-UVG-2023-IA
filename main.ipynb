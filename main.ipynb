{
 "cells": [
  {
   "attachments": {},
   "cell_type": "markdown",
   "metadata": {},
   "source": [
    "# Task 1.1"
   ]
  },
  {
   "cell_type": "code",
   "execution_count": 57,
   "metadata": {},
   "outputs": [
    {
     "name": "stdout",
     "output_type": "stream",
     "text": [
      "antes:  [  0   0 105   0  29  53   0   0   0  50   0   0  19   1 388   0]\n",
      "actual:  [0 0 0 0 0 0 0 0 0 0 0 0 0 0 0]\n"
     ]
    }
   ],
   "source": [
    "import numpy as np\n",
    "\n",
    "# Cargar el archivo CSV en un np.array\n",
    "data = np.genfromtxt('framingham.csv', delimiter=',', skip_header=1)\n",
    "\n",
    "nan_count = np.sum(np.isnan(data), axis=0)\n",
    "print(\"antes: \", nan_count)\n",
    "\n",
    "columnasModificar = [4,5,9,12,13,14]\n",
    "\n",
    "#obtener la mediana de la columna de la cantidad que se fuma para evitar eliminarlos\n",
    "for x in columnasModificar:\n",
    "    col2 = data[:, x]\n",
    "    col2_no_nan = col2[~np.isnan(col2)]\n",
    "    col2_median = np.median(col2_no_nan)\n",
    "    col2[np.isnan(col2)] = col2_median\n",
    "    data[:, x] = col2\n",
    "\n",
    "data = np.delete(data, 2, axis=1)\n",
    "\n",
    "nan_count = np.sum(np.isnan(data), axis=0)\n",
    "print(\"actual: \", nan_count)\n"
   ]
  },
  {
   "attachments": {},
   "cell_type": "markdown",
   "metadata": {},
   "source": [
    "# task 1.2"
   ]
  },
  {
   "cell_type": "code",
   "execution_count": 58,
   "metadata": {},
   "outputs": [],
   "source": [
    "from sklearn.model_selection import train_test_split\n",
    "from sklearn.preprocessing import PolynomialFeatures\n",
    "from sklearn.metrics import accuracy_score\n",
    "\n",
    "# Seleccionar las variables independientes y la variable dependiente\n",
    "X = data[:, 0:-1]\n",
    "y = data[:, -1]\n",
    "\n",
    "# print(X)\n",
    "# print(y)\n",
    "\n",
    "# Dividir los datos en conjuntos de entrenamiento y prueba\n",
    "X_train, X_test, y_train, y_test = train_test_split(X, y, test_size=0.2, random_state=42)\n",
    "\n",
    "# Crear características polinomiales de segundo grado\n",
    "poly = PolynomialFeatures(degree=2, include_bias=False)\n",
    "X_train_poly = poly.fit_transform(X_train)\n",
    "X_test_poly = poly.transform(X_test)"
   ]
  },
  {
   "attachments": {},
   "cell_type": "markdown",
   "metadata": {},
   "source": [
    "# Task 1.3"
   ]
  },
  {
   "cell_type": "code",
   "execution_count": 66,
   "metadata": {},
   "outputs": [
    {
     "name": "stdout",
     "output_type": "stream",
     "text": [
      "Accuracy en entrenamiento: 0.850\n",
      "Accuracy en prueba: 0.853\n"
     ]
    }
   ],
   "source": [
    "from sklearn.linear_model import LogisticRegression\n",
    "\n",
    "# Ajustar el modelo de regresión logística\n",
    "model = LogisticRegression(random_state=42, max_iter= 100)\n",
    "model.fit(X_train_poly, y_train)\n",
    "\n",
    "# Predecir los valores de salida para los datos de entrenamiento y prueba\n",
    "y_train_pred = model.predict(X_train_poly)\n",
    "y_test_pred = model.predict(X_test_poly)\n",
    "\n",
    "# Evaluar el rendimiento del modelo en los datos de entrenamiento y prueba\n",
    "train_acc = accuracy_score(y_train, y_train_pred)\n",
    "test_acc = accuracy_score(y_test, y_test_pred)\n",
    "\n",
    "print(f'Accuracy en entrenamiento: {train_acc:.3f}')\n",
    "print(f'Accuracy en prueba: {test_acc:.3f}')"
   ]
  },
  {
   "attachments": {},
   "cell_type": "markdown",
   "metadata": {},
   "source": [
    "# Task 1.4"
   ]
  },
  {
   "cell_type": "code",
   "execution_count": 67,
   "metadata": {},
   "outputs": [],
   "source": [
    "from sklearn.model_selection import cross_val_score\n",
    "\n",
    "# Definir los grados de polinomio a probar\n",
    "degrees = [1, 2, 3, 4, 5]\n",
    "\n",
    "# Realizar la validación cruzada para cada grado de polinomio\n",
    "cv_scores = []\n",
    "for degree in degrees:\n",
    "    poly = PolynomialFeatures(degree=degree, include_bias=False)\n",
    "    X_poly = poly.fit_transform(X)\n",
    "    scores = cross_val_score(LogisticRegression(random_state=42), X_poly, y, cv=5)\n",
    "    cv_scores.append(scores.mean())\n",
    "\n",
    "# Encontrar el grado del polinomio con el mejor puntaje de validación cruzada\n",
    "best_degree = degrees[np.argmax(cv_scores)]\n"
   ]
  },
  {
   "cell_type": "code",
   "execution_count": 68,
   "metadata": {},
   "outputs": [
    {
     "name": "stdout",
     "output_type": "stream",
     "text": [
      "Mejor grado del polinomio: 1\n"
     ]
    }
   ],
   "source": [
    "# Mostrar el grado del polinomio con el mejor puntaje de validación cruzada\n",
    "print(f'Mejor grado del polinomio: {best_degree}')"
   ]
  },
  {
   "attachments": {},
   "cell_type": "markdown",
   "metadata": {},
   "source": [
    "# Task 1.5\n",
    "Después de realizar la validación cruzada para encontrar el mejor grado del polinomio que describe los datos, se encontró que el grado óptimo es 1. Esto significa que el modelo de regresión logística utilizado para predecir la probabilidad de padecer enfermedad cardiovascular en los próximos 10 años no se beneficia significativamente de agregar características polinomiales más complejas.\n",
    "\n",
    "Es importante tener en cuenta que, aunque agregar características polinomiales de mayor grado puede ayudar a ajustar el modelo a los datos de entrenamiento de manera más precisa, puede conducir a un sobreajuste y una peor capacidad de generalización en datos no vistos previamente. Es por eso que es importante encontrar el equilibrio adecuado entre un modelo que se ajuste bien a los datos de entrenamiento y que también pueda generalizar de manera efectiva a nuevos datos. En este caso, el modelo de grado 1 logra ese equilibrio, lo que sugiere que no hay relaciones no lineales significativas entre las variables independientes y la variable dependiente."
   ]
  }
 ],
 "metadata": {
  "kernelspec": {
   "display_name": "Python 3",
   "language": "python",
   "name": "python3"
  },
  "language_info": {
   "codemirror_mode": {
    "name": "ipython",
    "version": 3
   },
   "file_extension": ".py",
   "mimetype": "text/x-python",
   "name": "python",
   "nbconvert_exporter": "python",
   "pygments_lexer": "ipython3",
   "version": "3.10.4"
  },
  "orig_nbformat": 4
 },
 "nbformat": 4,
 "nbformat_minor": 2
}
